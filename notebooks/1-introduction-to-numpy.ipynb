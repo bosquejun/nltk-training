{
  "nbformat": 4,
  "nbformat_minor": 0,
  "metadata": {
    "colab": {
      "name": "1-introduction-to-numpy.ipynb",
      "version": "0.3.2",
      "provenance": [],
      "toc_visible": true
    },
    "kernelspec": {
      "name": "python3",
      "display_name": "Python 3"
    },
    "accelerator": "GPU"
  },
  "cells": [
    {
      "metadata": {
        "id": "CLXvRL3xanEU",
        "colab_type": "text"
      },
      "cell_type": "markdown",
      "source": [
        "#NTLK DAY -1"
      ]
    },
    {
      "metadata": {
        "id": "JRMbBHB7rwro",
        "colab_type": "text"
      },
      "cell_type": "markdown",
      "source": [
        "## Exercise-1"
      ]
    },
    {
      "metadata": {
        "id": "Q2u1a1jVawYz",
        "colab_type": "code",
        "colab": {}
      },
      "cell_type": "code",
      "source": [
        "import numpy as np"
      ],
      "execution_count": 0,
      "outputs": []
    },
    {
      "metadata": {
        "id": "99gtp2mIazQM",
        "colab_type": "code",
        "colab": {}
      },
      "cell_type": "code",
      "source": [
        "A = [[22,5,16,9], [13,20,19,0], [5,9,1,16], [27,13,15,19]]\n",
        "B = [[10,5,20,20], [5,21,22,27], [26,19,22,3], [27,8,18,7]]\n",
        "c = [24,3,17,7,11,2,21,2,24,18,3,11,14,25,2,20]\n",
        "d = [3,15,24,22,19,24,4,29,6,3,20,1,11,25,26,6]"
      ],
      "execution_count": 0,
      "outputs": []
    },
    {
      "metadata": {
        "id": "VmfMPgaLgS_1",
        "colab_type": "code",
        "colab": {
          "base_uri": "https://localhost:8080/",
          "height": 87
        },
        "outputId": "dd90a8d2-d62d-47d8-d5ba-dec9dd243012"
      },
      "cell_type": "code",
      "source": [
        "print('1. ', np.add(A,B))"
      ],
      "execution_count": 41,
      "outputs": [
        {
          "output_type": "stream",
          "text": [
            "1.  [[32 10 36 29]\n",
            " [18 41 41 27]\n",
            " [31 28 23 19]\n",
            " [54 21 33 26]]\n"
          ],
          "name": "stdout"
        }
      ]
    },
    {
      "metadata": {
        "id": "d8aeFxmmgVrR",
        "colab_type": "code",
        "colab": {
          "base_uri": "https://localhost:8080/",
          "height": 87
        },
        "outputId": "728aa306-498e-43db-ff2e-a14d246e5b50"
      },
      "cell_type": "code",
      "source": [
        "print('2. ', np.subtract(A,B))"
      ],
      "execution_count": 42,
      "outputs": [
        {
          "output_type": "stream",
          "text": [
            "2.  [[ 12   0  -4 -11]\n",
            " [  8  -1  -3 -27]\n",
            " [-21 -10 -21  13]\n",
            " [  0   5  -3  12]]\n"
          ],
          "name": "stdout"
        }
      ]
    },
    {
      "metadata": {
        "id": "Z3EovavEhT39",
        "colab_type": "code",
        "colab": {
          "base_uri": "https://localhost:8080/",
          "height": 87
        },
        "outputId": "4230bfea-171a-4d33-e5d9-10954c3f5974"
      },
      "cell_type": "code",
      "source": [
        "print('3. ', np.multiply(A,B))"
      ],
      "execution_count": 43,
      "outputs": [
        {
          "output_type": "stream",
          "text": [
            "3.  [[220  25 320 180]\n",
            " [ 65 420 418   0]\n",
            " [130 171  22  48]\n",
            " [729 104 270 133]]\n"
          ],
          "name": "stdout"
        }
      ]
    },
    {
      "metadata": {
        "id": "jrQ3ed6Sk08c",
        "colab_type": "code",
        "colab": {
          "base_uri": "https://localhost:8080/",
          "height": 87
        },
        "outputId": "81569da8-f3c2-428a-c03f-45df5f518eb2"
      },
      "cell_type": "code",
      "source": [
        "print('4. ', np.dot(A,B))"
      ],
      "execution_count": 48,
      "outputs": [
        {
          "output_type": "stream",
          "text": [
            "4.  [[ 904  591 1064  686]\n",
            " [ 724  846 1118  857]\n",
            " [ 553  361  608  458]\n",
            " [1238  845 1498 1069]]\n"
          ],
          "name": "stdout"
        }
      ]
    },
    {
      "metadata": {
        "id": "9NecWdF6liIm",
        "colab_type": "code",
        "colab": {
          "base_uri": "https://localhost:8080/",
          "height": 35
        },
        "outputId": "89e6d34c-47aa-4c52-d8f1-0b66bba739af"
      },
      "cell_type": "code",
      "source": [
        "print('5. ', np.add(c,d))"
      ],
      "execution_count": 52,
      "outputs": [
        {
          "output_type": "stream",
          "text": [
            "5.  [27 18 41 29 30 26 25 31 30 21 23 12 25 50 28 26]\n"
          ],
          "name": "stdout"
        }
      ]
    },
    {
      "metadata": {
        "id": "9kiqMqWDmcew",
        "colab_type": "code",
        "colab": {
          "base_uri": "https://localhost:8080/",
          "height": 35
        },
        "outputId": "fb0ffcb1-408b-4b45-b67c-89a82ff926d8"
      },
      "cell_type": "code",
      "source": [
        "print('6. ', np.subtract(c,d))"
      ],
      "execution_count": 53,
      "outputs": [
        {
          "output_type": "stream",
          "text": [
            "6.  [ 21 -12  -7 -15  -8 -22  17 -27  18  15 -17  10   3   0 -24  14]\n"
          ],
          "name": "stdout"
        }
      ]
    },
    {
      "metadata": {
        "id": "CfGWO2ddmhqp",
        "colab_type": "code",
        "colab": {
          "base_uri": "https://localhost:8080/",
          "height": 35
        },
        "outputId": "bce230a2-880c-4e84-80df-402a4a6e1a85"
      },
      "cell_type": "code",
      "source": [
        "print('7. ', np.multiply(c,d))"
      ],
      "execution_count": 55,
      "outputs": [
        {
          "output_type": "stream",
          "text": [
            "7.  [ 72  45 408 154 209  48  84  58 144  54  60  11 154 625  52 120]\n"
          ],
          "name": "stdout"
        }
      ]
    },
    {
      "metadata": {
        "id": "R0Xug185m1c3",
        "colab_type": "code",
        "colab": {
          "base_uri": "https://localhost:8080/",
          "height": 35
        },
        "outputId": "19ffc5f4-81b2-4ee0-c3cd-16f1a313f873"
      },
      "cell_type": "code",
      "source": [
        "print('8. ', np.dot(c,d))"
      ],
      "execution_count": 77,
      "outputs": [
        {
          "output_type": "stream",
          "text": [
            "8.  2298\n"
          ],
          "name": "stdout"
        }
      ]
    },
    {
      "metadata": {
        "id": "44LEPFMgm4mi",
        "colab_type": "code",
        "colab": {
          "base_uri": "https://localhost:8080/",
          "height": 87
        },
        "outputId": "babaf3b4-6691-492a-91ba-1429408c2a2c"
      },
      "cell_type": "code",
      "source": [
        "print('9. ', np.add(A,10))"
      ],
      "execution_count": 59,
      "outputs": [
        {
          "output_type": "stream",
          "text": [
            "9.  [[32 15 26 19]\n",
            " [23 30 29 10]\n",
            " [15 19 11 26]\n",
            " [37 23 25 29]]\n"
          ],
          "name": "stdout"
        }
      ]
    },
    {
      "metadata": {
        "id": "GIBhPcvlnAZF",
        "colab_type": "code",
        "colab": {
          "base_uri": "https://localhost:8080/",
          "height": 87
        },
        "outputId": "5216c9bf-a27c-41e2-aca4-7a438e01a26d"
      },
      "cell_type": "code",
      "source": [
        "print('10. ', np.add(B,10))"
      ],
      "execution_count": 60,
      "outputs": [
        {
          "output_type": "stream",
          "text": [
            "10.  [[20 15 30 30]\n",
            " [15 31 32 37]\n",
            " [36 29 32 13]\n",
            " [37 18 28 17]]\n"
          ],
          "name": "stdout"
        }
      ]
    },
    {
      "metadata": {
        "id": "bYP2VtksnPdW",
        "colab_type": "code",
        "colab": {
          "base_uri": "https://localhost:8080/",
          "height": 35
        },
        "outputId": "7d7a6498-1bea-4bb5-933d-2cc17cea22df"
      },
      "cell_type": "code",
      "source": [
        "print('11. ', np.add(c,15))"
      ],
      "execution_count": 61,
      "outputs": [
        {
          "output_type": "stream",
          "text": [
            "11.  [39 18 32 22 26 17 36 17 39 33 18 26 29 40 17 35]\n"
          ],
          "name": "stdout"
        }
      ]
    },
    {
      "metadata": {
        "id": "xBr6SlBenTjA",
        "colab_type": "code",
        "colab": {
          "base_uri": "https://localhost:8080/",
          "height": 35
        },
        "outputId": "d77744a9-1fea-4e40-987a-080eb4262e13"
      },
      "cell_type": "code",
      "source": [
        "print('12. ', np.add(d,15))"
      ],
      "execution_count": 62,
      "outputs": [
        {
          "output_type": "stream",
          "text": [
            "12.  [18 30 39 37 34 39 19 44 21 18 35 16 26 40 41 21]\n"
          ],
          "name": "stdout"
        }
      ]
    },
    {
      "metadata": {
        "id": "mNht3MQ6nV26",
        "colab_type": "code",
        "colab": {
          "base_uri": "https://localhost:8080/",
          "height": 87
        },
        "outputId": "082287f9-3e9f-4795-a633-fe3361fe1db2"
      },
      "cell_type": "code",
      "source": [
        "print('13. ', np.add(np.multiply(2,A), np.multiply(2,B)))"
      ],
      "execution_count": 70,
      "outputs": [
        {
          "output_type": "stream",
          "text": [
            "13.  [[ 64  20  72  58]\n",
            " [ 36  82  82  54]\n",
            " [ 62  56  46  38]\n",
            " [108  42  66  52]]\n"
          ],
          "name": "stdout"
        }
      ]
    },
    {
      "metadata": {
        "id": "s_0QUQHWn_3E",
        "colab_type": "code",
        "colab": {
          "base_uri": "https://localhost:8080/",
          "height": 87
        },
        "outputId": "e9231049-93c1-4d50-efaa-3f517d081ffe"
      },
      "cell_type": "code",
      "source": [
        "print('14. ', np.multiply(np.add(A,B),3))"
      ],
      "execution_count": 71,
      "outputs": [
        {
          "output_type": "stream",
          "text": [
            "14.  [[ 96  30 108  87]\n",
            " [ 54 123 123  81]\n",
            " [ 93  84  69  57]\n",
            " [162  63  99  78]]\n"
          ],
          "name": "stdout"
        }
      ]
    },
    {
      "metadata": {
        "id": "P2Db_BR5qaS5",
        "colab_type": "code",
        "colab": {
          "base_uri": "https://localhost:8080/",
          "height": 87
        },
        "outputId": "f4af21c9-50b5-4dad-ca35-ed46d8c85a46"
      },
      "cell_type": "code",
      "source": [
        "print('15. ', np.multiply(np.add(np.subtract(np.add(np.subtract(A,B),A),B),B),4))"
      ],
      "execution_count": 73,
      "outputs": [
        {
          "output_type": "stream",
          "text": [
            "15.  [[ 136   20   48   -8]\n",
            " [  84   76   64 -108]\n",
            " [ -64   -4  -80  116]\n",
            " [ 108   72   48  124]]\n"
          ],
          "name": "stdout"
        }
      ]
    },
    {
      "metadata": {
        "id": "7NSGoRxHrbym",
        "colab_type": "code",
        "colab": {}
      },
      "cell_type": "code",
      "source": [
        ""
      ],
      "execution_count": 0,
      "outputs": []
    },
    {
      "metadata": {
        "id": "5YG3wxgNr9S_",
        "colab_type": "text"
      },
      "cell_type": "markdown",
      "source": [
        "## Exercise-2"
      ]
    },
    {
      "metadata": {
        "id": "k1nuQNncsBbS",
        "colab_type": "code",
        "colab": {}
      },
      "cell_type": "code",
      "source": [
        ""
      ],
      "execution_count": 0,
      "outputs": []
    },
    {
      "metadata": {
        "id": "OXMNs_Fkr3ec",
        "colab_type": "text"
      },
      "cell_type": "markdown",
      "source": [
        "# NTLK DAY -2"
      ]
    }
  ]
}